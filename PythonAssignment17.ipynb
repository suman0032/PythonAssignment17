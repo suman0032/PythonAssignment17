{
 "cells": [
  {
   "cell_type": "code",
   "execution_count": 13,
   "metadata": {},
   "outputs": [],
   "source": [
    "import math\n",
    "import scipy.stats as st"
   ]
  },
  {
   "cell_type": "code",
   "execution_count": 22,
   "metadata": {},
   "outputs": [
    {
     "name": "stdout",
     "output_type": "stream",
     "text": [
      "Value of z is  3.2\n",
      "Probability of h1 is  0.9993128620620841\n",
      "Probability of h0 is  0.0006871379379158604  which is less than 0.05(significance level)\n",
      "This indicates that Alternative hypothesis is accepted i.e. the raw cornstarch has an effect  \n"
     ]
    }
   ],
   "source": [
    "#problem 1\n",
    "#Blood glucose levels for obese patients have a mean of 100 with a standard deviation of 15. A researcher thinks that a diet high in raw cornstarch will have a positive effect on\n",
    "#blood glucose levels. A sample of 36 patients who have tried the raw cornstarch diet have a mean glucose level of 108.\n",
    "#Test the hypothesis that the raw cornstarch had an effect or not.\n",
    "mean,sd,mean1,n=100,15,108,36\n",
    "sd1=sd/math.sqrt(n)   #Standard deviation of sample\n",
    "#h0=100 NULL hypothesis is that mean remains to 100\n",
    "#h1>100 ALternative hypothesis is that mean increases\n",
    "\n",
    "#Set Significance level to o.o5\n",
    "z=(mean1-mean)/sd1 #Calculate z value for sample\n",
    "print('Value of z is ',z)\n",
    "print ('Probability of h1 is ',st.norm.cdf(z))\n",
    "print ('Probability of h0 is ',(1-st.norm.cdf(z)),' which is less than 0.05(significance level)')\n",
    "print ('This indicates that Alternative hypothesis is accepted i.e. the raw cornstarch has an effect  ')\n"
   ]
  },
  {
   "cell_type": "code",
   "execution_count": 39,
   "metadata": {},
   "outputs": [
    {
     "name": "stdout",
     "output_type": "stream",
     "text": [
      "P1 be the proportions of Republicans in first state then (1-P1) is the proportions of Democrats\n",
      "P2 be the proportions of Republicans in second state then (1-P2) is the proportions of Democrats\n",
      "Mean of the differnce in proportions is (P1-P2) = 0.05\n",
      "Standard Deviation of Difference =  0.07061869440877536\n",
      "**This problem requires the probability of  P2>P1 i.e probability of (P1-P2) is less than 1 **\n",
      "Z score of (P1-P2) is -0.708 \n",
      "Probablity of (P1-P2) is 0.24\n"
     ]
    }
   ],
   "source": [
    "#problem 2\n",
    "#In one state, 52% of the voters are Republicans, and 48% are Democrats. In a second\n",
    "#state, 47% of the voters are Republicans, and 53% are Democrats. Suppose a simple\n",
    "#random sample of 100 voters are surveyed from each state.\n",
    "#What is the probability that the survey will show a greater percentage of Republican voters in the second state than in the first state?\n",
    "n,P1,P2=100,0.52,0.47\n",
    "\n",
    "print(\"P1 be the proportions of Republicans in first state then (1-P1) is the proportions of Democrats\")\n",
    "print(\"P2 be the proportions of Republicans in second state then (1-P2) is the proportions of Democrats\")\n",
    "print(\"Mean of the differnce in proportions is (P1-P2) = {:.2f}\".format(P1-P2))\n",
    "sd1=math.sqrt(((P1*(1-P1))/n)+(P2*(1-P2))/n)\n",
    "print(\"Standard Deviation of Difference = \",sd1) \n",
    "\n",
    "print(\"**This problem requires the probability of  P2>P1 i.e probability of (P1-P2) is less than 1 **\")\n",
    "z=(0-(P1-P2))/sd1\n",
    "print (\"Z score of (P1-P2) is {:.3f} \".format(z))\n",
    "print ('Probablity of (P1-P2) is {:.2f}'.format(st.norm.cdf(z)))"
   ]
  },
  {
   "cell_type": "code",
   "execution_count": 46,
   "metadata": {},
   "outputs": [
    {
     "name": "stdout",
     "output_type": "stream",
     "text": [
      "Z score = 0.3541\n",
      "You score 0.354 times standard deviation greater than mean\n",
      "You scored  63.84% greater than average test taker\n"
     ]
    }
   ],
   "source": [
    "#problem3\n",
    "#You take the SAT and score 1100. The mean score for the SAT is 1026 and the standard\n",
    "#deviation is 209. How well did you score on the test compared to the average test taker?\n",
    "\n",
    "sd,x,mean=209,1100,1026\n",
    "z=(x-mean)/sd\n",
    "print('Z score = {:.4f}'.format(z))\n",
    "print('You score {:.3f} times standard deviation greater than mean'.format(z))\n",
    "print('You scored  {:.2f}% greater than average test taker'.format(st.norm.cdf(z)*100))"
   ]
  }
 ],
 "metadata": {
  "kernelspec": {
   "display_name": "Python 3",
   "language": "python",
   "name": "python3"
  },
  "language_info": {
   "codemirror_mode": {
    "name": "ipython",
    "version": 3
   },
   "file_extension": ".py",
   "mimetype": "text/x-python",
   "name": "python",
   "nbconvert_exporter": "python",
   "pygments_lexer": "ipython3",
   "version": "3.6.5"
  }
 },
 "nbformat": 4,
 "nbformat_minor": 2
}
